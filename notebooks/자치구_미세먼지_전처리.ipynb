{
  "nbformat": 4,
  "nbformat_minor": 0,
  "metadata": {
    "colab": {
      "provenance": []
    },
    "kernelspec": {
      "name": "python3",
      "display_name": "Python 3"
    },
    "language_info": {
      "name": "python"
    }
  },
  "cells": [
    {
      "cell_type": "code",
      "source": [
        "from google.colab import drive\n",
        "drive.mount('/content/drive')"
      ],
      "metadata": {
        "colab": {
          "base_uri": "https://localhost:8080/"
        },
        "id": "q_XMSVLkYKqS",
        "outputId": "f0737645-5be0-4bdc-fd49-ee49804f8a99"
      },
      "execution_count": 1,
      "outputs": [
        {
          "output_type": "stream",
          "name": "stdout",
          "text": [
            "Mounted at /content/drive\n"
          ]
        }
      ]
    },
    {
      "cell_type": "code",
      "execution_count": 29,
      "metadata": {
        "colab": {
          "base_uri": "https://localhost:8080/",
          "height": 274
        },
        "id": "Dr9TTXElXy2C",
        "outputId": "1e165791-6371-4169-ef73-5d94929d9ba7"
      },
      "outputs": [
        {
          "output_type": "stream",
          "name": "stdout",
          "text": [
            "     자치구 Year_Month  PM2.5\n",
            "0    강남구 2020-01-01     28\n",
            "1    강동구 2020-01-01     33\n",
            "2    강북구 2020-01-01     30\n",
            "3    강서구 2020-01-01     29\n",
            "4    관악구 2020-01-01     28\n",
            "..   ...        ...    ...\n",
            "595  용산구 2021-12-01     23\n",
            "596  은평구 2021-12-01     23\n",
            "597  종로구 2021-12-01     25\n",
            "598   중구 2021-12-01     24\n",
            "599  중랑구 2021-12-01     21\n",
            "\n",
            "[600 rows x 3 columns]\n"
          ]
        },
        {
          "output_type": "display_data",
          "data": {
            "text/plain": [
              "<IPython.core.display.Javascript object>"
            ],
            "application/javascript": [
              "\n",
              "    async function download(id, filename, size) {\n",
              "      if (!google.colab.kernel.accessAllowed) {\n",
              "        return;\n",
              "      }\n",
              "      const div = document.createElement('div');\n",
              "      const label = document.createElement('label');\n",
              "      label.textContent = `Downloading \"${filename}\": `;\n",
              "      div.appendChild(label);\n",
              "      const progress = document.createElement('progress');\n",
              "      progress.max = size;\n",
              "      div.appendChild(progress);\n",
              "      document.body.appendChild(div);\n",
              "\n",
              "      const buffers = [];\n",
              "      let downloaded = 0;\n",
              "\n",
              "      const channel = await google.colab.kernel.comms.open(id);\n",
              "      // Send a message to notify the kernel that we're ready.\n",
              "      channel.send({})\n",
              "\n",
              "      for await (const message of channel.messages) {\n",
              "        // Send a message to notify the kernel that we're ready.\n",
              "        channel.send({})\n",
              "        if (message.buffers) {\n",
              "          for (const buffer of message.buffers) {\n",
              "            buffers.push(buffer);\n",
              "            downloaded += buffer.byteLength;\n",
              "            progress.value = downloaded;\n",
              "          }\n",
              "        }\n",
              "      }\n",
              "      const blob = new Blob(buffers, {type: 'application/binary'});\n",
              "      const a = document.createElement('a');\n",
              "      a.href = window.URL.createObjectURL(blob);\n",
              "      a.download = filename;\n",
              "      div.appendChild(a);\n",
              "      a.click();\n",
              "      div.remove();\n",
              "    }\n",
              "  "
            ]
          },
          "metadata": {}
        },
        {
          "output_type": "display_data",
          "data": {
            "text/plain": [
              "<IPython.core.display.Javascript object>"
            ],
            "application/javascript": [
              "download(\"download_c3f3f59b-ea64-4c4f-97fc-6dd8d90b6860\", \"\\uc11c\\uc6b8_\\uc790\\uce58\\uad6c_PM25_2020_2021_24\\uac1c\\uc6d4_\\ubcc0\\uacbd.csv\", 14537)"
            ]
          },
          "metadata": {}
        }
      ],
      "source": [
        "import pandas as pd\n",
        "import matplotlib.pyplot as plt\n",
        "from google.colab import files\n",
        "\n",
        "df_2020 = pd.read_excel('/content/drive/MyDrive/시계열 데이터 분석/팀플/시계열데이터/자치구 미세먼지 20~21/서울 자치구 미세먼지 pm2.5 2020 .xlsx')\n",
        "df_2021 = pd.read_excel('/content/drive/MyDrive/시계열 데이터 분석/팀플/시계열데이터/자치구 미세먼지 20~21/서울 자치구 미세먼지 pm2.5 2021.xlsx')\n",
        "\n",
        "df_2020 = df_2020[df_2020['구분'] != '서울시 평균'].reset_index(drop=True)\n",
        "df_2021 = df_2021[df_2021['구분'] != '서울시 평균'].reset_index(drop=True)\n",
        "\n",
        "df_2020.columns = ['구분'] + [f'2020_{col}' for col in df_2020.columns[1:]]\n",
        "df_2021.columns = ['구분'] + [f'2021_{col}' for col in df_2021.columns[1:]]\n",
        "\n",
        "df_merged = pd.merge(df_2020, df_2021, on='구분')\n",
        "\n",
        "months_24 = [f'2020_{m}월' for m in range(1, 13)] + [f'2021_{m}월' for m in range(1, 13)]\n",
        "df_melted = pd.melt(df_merged, id_vars=['구분'], value_vars=months_24, var_name='Year_Month', value_name='PM2.5')\n",
        "\n",
        "\n",
        "df_melted['Year_Month'] = df_melted['Year_Month'].apply(\n",
        "    lambda x: f\"{x.split('_')[0]}-{int(x.split('_')[1].replace('월', '')):02d}\"\n",
        ")\n",
        "df_melted['Year_Month'] = pd.to_datetime(df_melted['Year_Month'], format='%Y-%m')\n",
        "\n",
        "df_melted = df_melted.rename(columns={'구분': '자치구'})\n",
        "\n",
        "print(df_melted)\n",
        "\n",
        "df_melted.to_csv('서울_자치구_PM25_2020_2021_24개월_변경.csv', index=False)\n",
        "files.download('서울_자치구_PM25_2020_2021_24개월_변경.csv')\n"
      ]
    }
  ]
}