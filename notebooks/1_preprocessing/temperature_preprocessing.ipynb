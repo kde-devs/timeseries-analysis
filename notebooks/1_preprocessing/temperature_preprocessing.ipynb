{
  "nbformat": 4,
  "nbformat_minor": 0,
  "metadata": {
    "colab": {
      "provenance": []
    },
    "kernelspec": {
      "name": "python3",
      "display_name": "Python 3"
    },
    "language_info": {
      "name": "python"
    }
  },
  "cells": [
    {
      "cell_type": "code",
      "execution_count": 3,
      "metadata": {
        "colab": {
          "base_uri": "https://localhost:8080/"
        },
        "id": "mob3r8zzT8JG",
        "outputId": "a302aff8-61bc-44bd-da17-6c760d9670c8"
      },
      "outputs": [
        {
          "output_type": "stream",
          "name": "stdout",
          "text": [
            "Mounted at /content/drive\n"
          ]
        }
      ],
      "source": [
        "from google.colab import drive\n",
        "drive.mount('/content/drive')"
      ]
    },
    {
      "cell_type": "code",
      "source": [
        "import pandas as pd\n",
        "\n",
        "file_path = '/content/drive/MyDrive/시계열 데이터 분석/팀플/시계열데이터/새데이터/서울 기온 기후통계 데이터 월자료 .xlsx'\n",
        "df = pd.read_excel(file_path)\n",
        "#출처 : https://apihub.kma.go.kr/api/typ01/url/sts_ta.php?tm1=202502&tm2=202502&stn_id=0&help=1&disp=1&authKey=PYkHbDbqRRyJB2w26uUcgg\n",
        "\n",
        "df = df[df['TM'].apply(lambda x: str(x).isdigit())].copy()\n",
        "\n",
        "df = df[['TM', 'TA_MAVG', 'TMX_MAVG', 'TMN_MAVG']]\n",
        "\n",
        "df['year_month'] = pd.to_datetime(df['TM'].astype(str), format='%Y%m')\n",
        "df['year_month'] = df['year_month'].dt.to_period('M').astype(str)\n",
        "\n",
        "df.drop(columns='TM', inplace=True)\n",
        "\n",
        "df = df[['year_month', 'TA_MAVG', 'TMX_MAVG', 'TMN_MAVG']]\n",
        "\n",
        "df = df[(df['year_month'] >= '2020-01') & (df['year_month'] <= '2021-12')]\n",
        "\n",
        "df.dropna(inplace=True)\n",
        "\n",
        "temp_processed = df\n",
        "\n",
        "print(temp_processed)\n",
        "\n",
        "temp_processed.to_csv(\"temp_processed_2020_2021.csv\", index=False, encoding='utf-8-sig')"
      ],
      "metadata": {
        "colab": {
          "base_uri": "https://localhost:8080/"
        },
        "id": "vfJb6z-zT8vD",
        "outputId": "f0a6491d-94ae-4cb5-dba1-3babeee1570f"
      },
      "execution_count": 4,
      "outputs": [
        {
          "output_type": "stream",
          "name": "stdout",
          "text": [
            "   year_month  TA_MAVG  TMX_MAVG  TMN_MAVG\n",
            "12    2020-01      1.6       5.9      -1.7\n",
            "13    2020-02      2.5       7.2      -1.3\n",
            "14    2020-03      7.7      13.3       2.6\n",
            "15    2020-04     11.1      16.6       6.3\n",
            "16    2020-05     18.0      23.3      13.7\n",
            "17    2020-06     23.9      29.0      19.9\n",
            "18    2020-07     24.1      28.0      21.1\n",
            "19    2020-08     26.5      29.3      24.4\n",
            "20    2020-09     21.4      25.6      18.0\n",
            "21    2020-10     14.3      19.5       9.6\n",
            "22    2020-11      8.0      12.6       4.0\n",
            "23    2020-12     -0.3       3.9      -4.2\n",
            "24    2021-01     -2.4       2.2      -6.8\n",
            "25    2021-02      2.7       7.9      -2.2\n",
            "26    2021-03      9.0      14.8       4.3\n",
            "27    2021-04     14.2      19.5       9.5\n",
            "28    2021-05     17.1      21.9      12.8\n",
            "29    2021-06     22.8      27.6      18.9\n",
            "30    2021-07     28.1      32.2      24.6\n",
            "31    2021-08     25.9      29.7      22.8\n",
            "32    2021-09     22.6      26.9      18.8\n",
            "33    2021-10     15.6      20.5      11.6\n",
            "34    2021-11      8.2      13.1       4.0\n",
            "35    2021-12      0.6       5.1      -3.5\n"
          ]
        }
      ]
    }
  ]
}
