{
  "nbformat": 4,
  "nbformat_minor": 0,
  "metadata": {
    "colab": {
      "provenance": []
    },
    "kernelspec": {
      "name": "python3",
      "display_name": "Python 3"
    },
    "language_info": {
      "name": "python"
    }
  },
  "cells": [
    {
      "cell_type": "code",
      "source": [
        "from google.colab import drive\n",
        "drive.mount('/content/drive')"
      ],
      "metadata": {
        "colab": {
          "base_uri": "https://localhost:8080/"
        },
        "id": "2ONZZ9CRXajv",
        "outputId": "fa25a35d-928d-4260-cdf2-fd7d6cbd87c2"
      },
      "execution_count": 1,
      "outputs": [
        {
          "output_type": "stream",
          "name": "stdout",
          "text": [
            "Mounted at /content/drive\n"
          ]
        }
      ]
    },
    {
      "cell_type": "code",
      "execution_count": 5,
      "metadata": {
        "colab": {
          "base_uri": "https://localhost:8080/"
        },
        "id": "tfg-2b5aXQ9A",
        "outputId": "8668b959-266c-4994-991c-b0691a0674db"
      },
      "outputs": [
        {
          "output_type": "stream",
          "name": "stdout",
          "text": [
            "   year_month  visit_count\n",
            "12 2020-01-01       113691\n",
            "13 2020-02-01        72297\n",
            "14 2020-03-01        61799\n",
            "15 2020-04-01        64213\n",
            "16 2020-05-01        80255\n",
            "17 2020-06-01        78808\n",
            "18 2020-07-01        81669\n",
            "19 2020-08-01        78573\n",
            "20 2020-09-01        66972\n",
            "21 2020-10-01        81101\n",
            "22 2020-11-01        72968\n",
            "23 2020-12-01        63338\n",
            "24 2021-01-01        62472\n",
            "25 2021-02-01        66244\n",
            "26 2021-03-01        68773\n",
            "27 2021-04-01        71534\n",
            "28 2021-05-01        79975\n",
            "29 2021-06-01        84246\n",
            "30 2021-07-01        78942\n",
            "31 2021-08-01        72210\n",
            "32 2021-09-01        90436\n",
            "33 2021-10-01        88214\n",
            "34 2021-11-01        74960\n",
            "35 2021-12-01        68885\n"
          ]
        }
      ],
      "source": [
        "import pandas as pd\n",
        "\n",
        "file_path = \"/content/drive/MyDrive/시계열 데이터 분석/팀플/시계열데이터/새데이터/월별 서울 응급실 방문 횟수.xlsx\" #계속 연도로 나와서 엑셀파일 구조를 수정했습니다. 톡으로 같이 보내드립니다.\n",
        "df = pd.read_excel(file_path, engine=\"openpyxl\", header=0)\n",
        "\n",
        "df.columns = ['year'] + [str(i) for i in range(1, 13)]\n",
        "\n",
        "df = df[pd.to_numeric(df['year'], errors='coerce').notnull()]\n",
        "df['year'] = df['year'].astype(int)\n",
        "\n",
        "melted = df.melt(id_vars=[\"year\"], var_name=\"month\", value_name=\"visit_count\")\n",
        "\n",
        "melted[\"year_month\"] = pd.to_datetime(\n",
        "    melted[\"year\"].astype(str) + \"-\" + melted[\"month\"].str.zfill(2) + \"-01\"\n",
        ")\n",
        "\n",
        "melted[\"visit_count\"] = melted[\"visit_count\"].astype(str).str.replace(\",\", \"\")\n",
        "melted[\"visit_count\"] = pd.to_numeric(melted[\"visit_count\"], errors=\"coerce\")\n",
        "\n",
        "er_processed = (\n",
        "    melted[[\"year_month\", \"visit_count\"]]\n",
        "    .dropna()\n",
        "    .sort_values(\"year_month\")\n",
        "    .reset_index(drop=True)\n",
        ")\n",
        "\n",
        "er_processed[\"visit_count\"] = er_processed[\"visit_count\"].astype(int)\n",
        "\n",
        "start_date = \"2020-01-01\"\n",
        "end_date = \"2021-12-31\"\n",
        "\n",
        "er_filtered = er_processed[\n",
        "    (er_processed[\"year_month\"] >= start_date) &\n",
        "    (er_processed[\"year_month\"] <= end_date)\n",
        "]\n",
        "\n",
        "print(er_filtered)\n",
        "\n",
        "er_filtered.to_csv(\"er_filtered_2020_2021.csv\", index=False, encoding='utf-8-sig')"
      ]
    }
  ]
}